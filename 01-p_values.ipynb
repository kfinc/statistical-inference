{
 "cells": [
  {
   "cell_type": "markdown",
   "metadata": {},
   "source": [
    "## Week 1\n",
    "\n",
    "**Statistical power** - the probability that you will observe a significant effect, if there is a true effect.\n",
    "\n",
    "\n"
   ]
  },
  {
   "cell_type": "code",
   "execution_count": 31,
   "metadata": {},
   "outputs": [
    {
     "data": {
      "image/png": "[encoded data removed]",
      "text/plain": [
       "Plot with title “P-value Distribution with 6.9 % Power”"
      ]
     },
     "metadata": {},
     "output_type": "display_data"
    }
   ],
   "source": [
    "#Load pwr package to easily calculate the statistical power\n",
    "if(!require(pwr)){install.packages('pwr')}\n",
    "library(pwr)\n",
    "#Disable scientific notation (1.05e10)\n",
    "options(scipen=999)\n",
    "#Set number of simulations\n",
    "nSims <- 100000 #number of simulated experiments\n",
    "\n",
    "M<-102 #Mean IQ score in the sample (will be compared with 100 in a one-sample t-test)\n",
    "#M<-100 # Q4\n",
    "#n<-26 #set sample size\n",
    "n<-70 # Q2\n",
    "SD<-15 #SD of the simulated data\n",
    "#With a mean difference of 6, and SD of 15, and a sample size of 26, the test has 50% power)\n",
    "  \n",
    "p <-numeric(nSims) #set up empty variable to store all simulated p-values\n",
    "bars<-100\n",
    "#Run simulation\n",
    "for(i in 1:nSims){ #for each simulated experiment\n",
    "  x<-rnorm(n = n, mean = M, sd = SD) #Simulate data with specified mean, standard deviation, and sample size\n",
    "  z<-t.test(x, mu=100) #perform the t-test against mu (set to value you want to test against)\n",
    "  p[i]<-z$p.value #get the p-value and store it\n",
    "}\n",
    "\n",
    "#Check power by summing significant p-values and dividing by number of simulations\n",
    "#(sum(p < 0.05)/nSims) #power\n",
    "#Calculate power formally by power analysis\n",
    "#power<-pwr.t.test(d=(M-100)/SD, n=n,sig.level=0.05,type=\"one.sample\",alternative=\"two.sided\")$power #determines M when power > 0. When power = 0, will set  M = 100.\n",
    "power<-pwr.t.test(d=(M-100)/SD, n=n,sig.level=0.01,type=\"one.sample\",alternative=\"two.sided\")$power #determines M when power > 0. When power = 0, will set  M = 100.\n",
    "\n",
    "#Plot figure\n",
    "#png(file=\"P-valueDist.png\",width=4000,height=3000, , units = \"px\", res = 500)\n",
    "op <- par(mar = c(5,7,4,4)) #change white-space around graph\n",
    "hist(p, breaks=bars, xlab=\"P-values\", ylab=\"number of p-values\\n\", axes=FALSE,\n",
    "     main=paste(\"P-value Distribution with\",round(power*100, digits=1),\"% Power\"),\n",
    "     col=\"grey\", xlim=c(0,0.05),  ylim=c(0, 10000))\n",
    "axis(side=1, at=seq(0,1, 0.1), labels=seq(0,1,0.1))\n",
    "axis(side=2, at=seq(0,nSims, nSims/4), labels=seq(0,nSims, nSims/4), las=2)\n",
    "abline(h=nSims/bars, col = \"red\", lty=3)\n",
    "#dev.off()\n",
    "\n",
    "#Š Daniel Lakens, 2016. \n",
    "# This work is licensed under a Creative Commons Attribution-NonCommercial-ShareAlike 4.0 International License. https://creativecommons.org/licenses/by-nc-sa/4.0/"
   ]
  },
  {
   "cell_type": "markdown",
   "metadata": {},
   "source": [
    "## Which p-values can you expect?\n",
    "\n",
    "### 1. Since the statistical power is the probability of observing a statistically significant result, if there is a true effect, we can also see the power in the figure itself. Where?"
   ]
  },
  {
   "cell_type": "code",
   "execution_count": 9,
   "metadata": {},
   "outputs": [
    {
     "data": {
      "text/html": [
       "0.0523310653430157"
      ],
      "text/latex": [
       "0.0523310653430157"
      ],
      "text/markdown": [
       "0.0523310653430157"
      ],
      "text/plain": [
       "[1] 0.05233107"
      ]
     },
     "metadata": {},
     "output_type": "display_data"
    }
   ],
   "source": [
    "(sum(p < 0.05)/nSims) #power"
   ]
  },
  {
   "cell_type": "markdown",
   "metadata": {},
   "source": [
    "### 2. Change the sample size in line 10 from n<-26 to n<-51. Run the simulation by selecting all lines and pressing CTRL+Enter. What is the power in the simulation now that we have increased the sample size from 26 people to 51 people?"
   ]
  },
  {
   "cell_type": "markdown",
   "metadata": {},
   "source": [
    "80%"
   ]
  },
  {
   "cell_type": "markdown",
   "metadata": {},
   "source": [
    "### 3. If you look at the distribution of p-values, what do you notice?"
   ]
  },
  {
   "cell_type": "markdown",
   "metadata": {},
   "source": [
    "The p-value is much steeper than with 50% power."
   ]
  },
  {
   "cell_type": "markdown",
   "metadata": {},
   "source": [
    "### 4. What would happen when there is no true difference between our simulated samples and the average IQ score? In this situation, we have no probability to observe an effect, so you might say we have ‘0 power’. Some people prefer to say power is not defined when there is no true effect. I tend to agree, but we can casually refer to this as 0 power. Change the mean IQ score in the sample to 100 (set M<-106 to M<-100 in line 9) There is now no difference between the average IQ score, and the mean IQ in our simulated sample. Run the script again. What do you notice?"
   ]
  },
  {
   "cell_type": "markdown",
   "metadata": {},
   "source": [
    "The p-value is completely flat (ignoring some minor variation due to random noise in simulation)."
   ]
  },
  {
   "cell_type": "markdown",
   "metadata": {},
   "source": [
    "### 5. Look at the leftmost bar in the plot, and look at the frequency of p-values in this bar What is the formal name for this bar?"
   ]
  },
  {
   "cell_type": "markdown",
   "metadata": {},
   "source": [
    "Type 1 error (false positive)"
   ]
  },
  {
   "cell_type": "markdown",
   "metadata": {},
   "source": [
    "### 6. The plot from the last simulation tells you we have 90.5% power. This is the power if we use an alpha of 5%. But we can also use an alpha of 1%. What is the statistical power we have in the simulated studies when we would use an alpha of 1%, looking at the graph? Pick the answer closest to the answer from your simulations."
   ]
  },
  {
   "cell_type": "markdown",
   "metadata": {},
   "source": [
    "~75%"
   ]
  },
  {
   "cell_type": "markdown",
   "metadata": {},
   "source": [
    "### 7. When you know you have very high (e.g., 98%) power for the smallest effect size you care about, and you observe a p-value of 0.045, what is the correct conclusion?"
   ]
  },
  {
   "cell_type": "markdown",
   "metadata": {},
   "source": [
    "The effect is significant, but the data are more likely under the null hypothesis than the alternative hypothesis."
   ]
  },
  {
   "cell_type": "markdown",
   "metadata": {},
   "source": [
    "Important!!!: \"Look at the fifth bar from the left. This bar now contains all the p-values between 0.04\n",
    "and 0.05. You will notice something peculiar. Remember that the red dotted line indicates\n",
    "the frequency in each bar, assuming the null hypothesis is true. See how the bar with pvalues between 0.04 and 0.05 is lower than the red line. We have simulated studies with\n",
    "96% power. When power is very high, p-values between 0.04 and 0.05 are very rare – they\n",
    "occur less than 1% of the time (most p-values are smaller than 0.01). When the null\n",
    "hypothesis is true, p-values between 0.04 and 0.05 occur exactly 1% of the time (because\n",
    "p-values are uniformly distributed). Now ask yourself: When you have very high power,\n",
    "and you observe a p-value between 0.04 and 0.05, is it more likely that the null-hypothesis\n",
    "is true, or that the alternative hypothesis is true? Given that you are more likely to observe\n",
    "p-values between 0.04 and 0.05 when the null hypothesis is true, than when the\n",
    "alternative hypothesis is true, you should interpret a p-value significant with an alpha of\n",
    "0.05 as more likely when the null hypothesis is true, than when the alternative hypothesis\n",
    "is true. I said I’d cure you from your bi-polar p-value disorder, didn’t I?\n",
    "\n",
    "In our simulations, we know there is a true effect or not, but in the real world, you don’t\n",
    "know. When you have very high power, use an alpha level of 0.05, and find a p-value of p\n",
    "= .045, the data is surprising, assuming the null hypothesis is true, but it is even more\n",
    "surprising, assuming the alternative hypothesis is true. This shows how a significant pvalue is not always evidence for the alternative hypothesis.\" \n",
    "\n",
    "If this sounds counterintuitive, that’s understandable. This is known a **Lindley’s paradox**.\n",
    "A result can be unlikely when the null hypothesis is true, but it can be even more unlikely\n",
    "assuming the alternative hypothesis is true, and power is very high. For this reason,\n",
    "some researchers have suggested using lower alpha levels in very large sample sizes, and\n",
    "this is probably sensible advice. Other researchers have suggested using Bayesian\n",
    "statistics (which we will encounter in assignment 2.2), which is also sensible advice. Note\n",
    "that it is quite unlikely to find a paradoxically high p-value (e.g., of p = 0.045) when the\n",
    "alternative hypothesis is true – but it will happen."
   ]
  },
  {
   "cell_type": "markdown",
   "metadata": {},
   "source": [
    "### 8. Play around with the sample size and the mean IQ in the group (lines 9 and 10, and thus, with the statistical power in the simulated studies). Look at the simulation result for the bar that contains p-values between 0.04 and 0.05. The red line indicates how many p-values would be found in this bar if the null-hypothesis was true (and is always at 1%). At the very best, how much more likely is a p-value between 0.04 and 0.05 to come from a p-value distribution representing a true effect, than it is to come from a p-value distribution when there is no effect? You can answer this question by seeing how much higher the bar of p-values between 0.04 and 0.05 can become. If at best the bar in the simulation is five times as high at the red line (so the bar shows 5% of p-values end up between 0.04 and 0.05, while the red line remains at 1%), then at best p-values between 0.04 and 0.05 are five times as likely when there is a true effect than when there is no true effect.\n",
    "\n",
    "\n",
    "At best, p-values between 0.04 and 0.05 are approximately 4 times more likely under the alternative hypothesis, that under null hypothesis."
   ]
  }
 ],
 "metadata": {
  "kernelspec": {
   "display_name": "R",
   "language": "R",
   "name": "ir"
  },
  "language_info": {
   "codemirror_mode": "r",
   "file_extension": ".r",
   "mimetype": "text/x-r-source",
   "name": "R",
   "pygments_lexer": "r",
   "version": "3.4.4"
  }
 },
 "nbformat": 4,
 "nbformat_minor": 2
}
