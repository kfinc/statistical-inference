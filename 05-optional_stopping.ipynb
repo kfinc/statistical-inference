{
 "cells": [
  {
   "cell_type": "markdown",
   "metadata": {},
   "source": [
    "## Optional stopping\n",
    "\n",
    "The **Type 1 error rate** in behavioral research (the probability of saying there is an effect,\n",
    "when there is no effect) is often set at 0.05. In recent years, researchers have become\n",
    "increasingly aware of research practices that inflate the Type 1 error rate. This means that\n",
    "the true Type 1 error rate is higher, or inflated, above the nominal Type 1 error rate set\n",
    "by the researcher. \n",
    "\n",
    "Simmons, Nelson, and Simonsohn (2011) describe a number of\n",
    "research practices that lead to a situation where researchers are likely to say **there is an\n",
    "effect, when there is no effect** (i.e., make a Type 1 error) more than 5% of the time, in the\n",
    "long run. In essence, all these practices have to do with **multiple comparisons** – looking\n",
    "at your data multiple times, or performing a significance test for the same hypothesis in\n",
    "several different ways.\n",
    "\n",
    "In **optional stopping**, a researcher repeatedly analyzes the data, continues the data collection when the test result is not statistically significant,\n",
    "but stops when a significant effect is observed. We will learn why optional stopping can\n",
    "be efficient, but that you have to do it right, by controlling the Type 1 error rate."
   ]
  },
  {
   "cell_type": "markdown",
   "metadata": {},
   "source": [
    "### Plotting p-value over time"
   ]
  },
  {
   "cell_type": "code",
   "execution_count": 125,
   "metadata": {},
   "outputs": [
    {
     "data": {
      "text/html": [
       "2.69164064870856e-18"
      ],
      "text/latex": [
       "2.69164064870856e-18"
      ],
      "text/markdown": [
       "2.69164064870856e-18"
      ],
      "text/plain": [
       "[1] 2.691641e-18"
      ]
     },
     "metadata": {},
     "output_type": "display_data"
    },
    {
     "name": "stdout",
     "output_type": "stream",
     "text": [
      "The lowest p-value was observed at sample size 1906The p-value dropped below 0.05 for the first time as sample size 31"
     ]
    },
    {
     "data": {
      "image/png": "[encoded data removed]",
      "text/plain": [
       "plot without title"
      ]
     },
     "metadata": {},
     "output_type": "display_data"
    }
   ],
   "source": [
    "n<-2000 #total number of datapoints (per condition) you are willing to collect after initial 10\n",
    "\n",
    "D<-0.3 #True effect size (Keep SD below to 1, otherwise, this is just mean dif, not d)\n",
    "SD<-1 #Set True standard deviation.\n",
    "\n",
    "p<-numeric(n) #store p-values\n",
    "x<-numeric(n) #store x-values\n",
    "y<-numeric(n) #store y-values\n",
    "\n",
    "n<-n+10 #script calculates p-values after 10 people in each condition, so add 10 to number of datapoints\n",
    "\n",
    "for(i in 10:n){ #for each simulated participants after the first 10\n",
    "  x[i]<-rnorm(n = 1, mean = 0, sd = SD)\n",
    "  y[i]<-rnorm(n = 1, mean = D, sd = SD)\n",
    "  z<-t.test(x[1:i],y[1:i], var.equal=TRUE) #perform the t-test\n",
    "  p[i]<-z$p.value \n",
    "}\n",
    "\n",
    "p<-p[10:n] #Remove forst 10 empty p-values\n",
    "\n",
    "#Create the plot\n",
    "#png(file=\"p-value_over_time.png\",width=4000,height=2000, , units = \"px\", res = 500)\n",
    "plot(0, col=\"red\", lty=1, lwd=3, ylim=c(0,1), xlim=c(10,n), type=\"l\", xlab='sample size', ylab='p-value', cex.lab=1, cex.axis=1, xaxt = \"n\")\n",
    "lines(p, lwd=2)\n",
    "abline(h=0.05, col=\"darkgrey\", lty=2, lwd=2) #draw ine at p = 0.05\n",
    "axis(1, at=seq(0, n-10, by=(n-10)/4), labels = seq(10, n, by=(n-10)/4))\n",
    "#dev.off()\n",
    "\n",
    "min(p) #Return lowest p-value from all looks\n",
    "cat(\"The lowest p-value was observed at sample size\",which.min(p)+10) #Return the sample size at which the p-value was smallest\n",
    "cat(\"The p-value dropped below 0.05 for the first time as sample size\",which(p<0.05)[1]+10) #Return the sample size at which the p-value dropped below 0.05 for the first\n",
    "\n",
    "#Š Daniel Lakens, 2016. \n",
    "# This work is licensed under a Creative Commons Attribution-NonCommercial-ShareAlike 4.0 International License. https://creativecommons.org/licenses/by-nc-sa/4.0/"
   ]
  },
  {
   "cell_type": "markdown",
   "metadata": {},
   "source": [
    "**Effect size** expresses the strength of\n",
    "the effect you are examining.\n",
    "\n",
    "“With a large enough sample size, the p-value for\n",
    "every simulation drops to zero (if there’s a true effect).\""
   ]
  },
  {
   "cell_type": "markdown",
   "metadata": {},
   "source": [
    "### Optional stopping"
   ]
  },
  {
   "cell_type": "code",
   "execution_count": null,
   "metadata": {},
   "outputs": [],
   "source": [
    "N<-100 #total number of datapoints (per condition) you are willing to collect\n",
    "Looks<-2 #set number of looks at the data\n",
    "nSim<-50000 #number of simulated studies\n",
    "alpha<-0.05 #set alpha\n",
    "\n",
    "D<-0 #True effect size (must be 0 when simulating Type 1 errors)\n",
    "\n",
    "#Take care of some settings\n",
    "options(scipen=100, digits=4) #disable scientific notation for numbers\n",
    "LookN<-ceiling(seq(0,N,N/Looks)) #Determine at which N's to look\n",
    "LookN<-LookN[-1] #remove look at 0\n",
    "LookN<-LookN[LookN > 2] #Remove looks at N of 1 or 2 (not possible with t-test)\n",
    "Looks<-length(LookN) #if looks are removed, change number of looks\n",
    "matp<-matrix(NA, nrow=nSim, ncol=Looks) #Matrix for p-values at sequential tests\n",
    "SigSeq<-numeric(Looks) #Variable to store final p-values\n",
    "OptStop<-numeric(nSim) #variable to store positions of optional stopping\n",
    "p<-numeric(nSim) #Variable to save optional stopping p-values\n",
    "\n",
    "#Loop data generation for each study, then loop to perform a test for each N \n",
    "for (i in 1:nSim){\n",
    "  x<-rnorm(n = N, mean = 0, sd = 1)\n",
    "  y<-rnorm(n = N, mean = D, sd = 1)\n",
    "  for (j in 1:Looks){\n",
    "  matp[i,j]<-t.test(x[1:LookN[j]],y[1:LookN[j]], var.equal=TRUE)$p.value #perform the t-test, store\n",
    "  }\n",
    "  cat('Loop', i, 'of', nSim,'\\n')\n",
    "}\n",
    "\n",
    "#Save Type 1 error rate for each look\n",
    "for (i in 1:Looks){\n",
    "  SigSeq[i] <- sum(matp[,i]<alpha)\n",
    "}\n",
    "\n",
    "#Get the positions at which are stopped, and then these p-values\n",
    "for (i in 1:nSim){\n",
    "  OptStop[i] <- min(which(matp[i,]<alpha))\n",
    "}\n",
    "OptStop[is.infinite(OptStop)] <- Looks #If nothing significant, take last p-value (fixes error warning)\n",
    "for (i in 1:nSim){\n",
    "  p[i] <- matp[i,OptStop[i]]\n",
    "}\n",
    "\n",
    "breaks<-100\n",
    "hist(p, breaks=breaks,col=\"grey\")\n",
    "abline(h=nSim/breaks, col = \"red\", lty=3)\n",
    "\n",
    "#Return Type 1 error rates for each look, and the the Type 1 error rate when only reporting the lowest p-value over all looks\n",
    "cat(\"Type 1 error rates for look 1 to\", Looks,\":\", SigSeq/nSim)\n",
    "cat(\"Type 1 error rate when only the lowest p-value for all looks is reported:\", sum(p<alpha)/nSim)\n",
    "\n",
    "#© Daniel Lakens, 2016. \n",
    "# This work is licensed under a Creative Commons Attribution-NonCommercial-ShareAlike 4.0 International License. https://creativecommons.org/licenses/by-nc-sa/4.0/"
   ]
  },
  {
   "cell_type": "markdown",
   "metadata": {},
   "source": [
    "When you perform only a single test, the Type 1 error rate is the probability of finding a\n",
    "p-value lower than your alpha level, when there is no effect. In an optional stopping\n",
    "scenario where you look at the data twice, the Type 1 error rate is the probability of\n",
    "finding a p-value lower than your alpha level at the first look, and the probability of not\n",
    "finding a p-value lower than your alpha level at the first look, but finding a p-value lower\n",
    "than your alpha level at the second look. This is a conditional probability, which makes\n",
    "error control a little bit more complex than when multiple looks are completely\n",
    "independent.\n",
    "\n",
    "At Wikipedia, look at the entry about the **Pocock boundary**:\n",
    "https://en.wikipedia.org/wiki/Pocock_boundary . There are ethical reasons to look at the\n",
    "data, while data is being collected. These are clear in medicine, but similar arguments\n",
    "can be made for other research areas (see Lakens, 2014). Researchers often want to\n",
    "look at the data multiple times. This is perfectly fine, as long as they design a study with\n",
    "a number of looks in advance, and control their Type 1 error rate. "
   ]
  },
  {
   "cell_type": "code",
   "execution_count": null,
   "metadata": {},
   "outputs": [],
   "source": []
  }
 ],
 "metadata": {
  "kernelspec": {
   "display_name": "R",
   "language": "R",
   "name": "ir"
  },
  "language_info": {
   "codemirror_mode": "r",
   "file_extension": ".r",
   "mimetype": "text/x-r-source",
   "name": "R",
   "pygments_lexer": "r",
   "version": "3.4.4"
  }
 },
 "nbformat": 4,
 "nbformat_minor": 2
}
